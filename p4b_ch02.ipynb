{
 "cells": [
  {
   "cell_type": "code",
   "execution_count": 20,
   "metadata": {},
   "outputs": [
    {
     "name": "stdout",
     "output_type": "stream",
     "text": [
      "Hello world\n"
     ]
    }
   ],
   "source": [
    "print(\"Hello world\")"
   ]
  },
  {
   "cell_type": "code",
   "execution_count": 21,
   "metadata": {},
   "outputs": [
    {
     "name": "stdout",
     "output_type": "stream",
     "text": [
      "Hello world\n",
      "Hello world\n"
     ]
    }
   ],
   "source": [
    "print(\"Hello world\")\n",
    "print('Hello world')"
   ]
  },
  {
   "cell_type": "code",
   "execution_count": 22,
   "metadata": {},
   "outputs": [
    {
     "name": "stdout",
     "output_type": "stream",
     "text": [
      "She said, 'Hello world'\n"
     ]
    }
   ],
   "source": [
    "print(\"She said, 'Hello world'\")"
   ]
  },
  {
   "cell_type": "code",
   "execution_count": 23,
   "metadata": {},
   "outputs": [
    {
     "name": "stdout",
     "output_type": "stream",
     "text": [
      "Comments are very useful!\n"
     ]
    }
   ],
   "source": [
    "# this is comment, it will be ignored by the computer\n",
    "print(\"Comments are very useful!\")"
   ]
  },
  {
   "cell_type": "code",
   "execution_count": 24,
   "metadata": {},
   "outputs": [
    {
     "name": "stdout",
     "output_type": "stream",
     "text": [
      "ATGCGTA\n"
     ]
    }
   ],
   "source": [
    "# store a shortDNA sequence in the variable my_dna\n",
    "my_dna = \"ATGCGTA\"\n",
    "\n",
    "# now print the DNA sequence\n",
    "print(my_dna)"
   ]
  },
  {
   "cell_type": "code",
   "execution_count": 25,
   "metadata": {},
   "outputs": [
    {
     "name": "stdout",
     "output_type": "stream",
     "text": [
      "ATGCGTA\n"
     ]
    }
   ],
   "source": [
    "m_dna = \"AATT\" + \"GGCC\"\n",
    "print(my_dna)\n"
   ]
  },
  {
   "cell_type": "code",
   "execution_count": 26,
   "metadata": {},
   "outputs": [
    {
     "name": "stdout",
     "output_type": "stream",
     "text": [
      "4\n"
     ]
    }
   ],
   "source": [
    "dna_length = len(\"AGTC\")\n",
    "print(dna_length)"
   ]
  },
  {
   "cell_type": "code",
   "execution_count": 27,
   "metadata": {},
   "outputs": [
    {
     "name": "stdout",
     "output_type": "stream",
     "text": [
      "The length of the DNA sequence is8\n"
     ]
    }
   ],
   "source": [
    "my_dna = \"ATGCGAGT\"\n",
    "dna_length = len(my_dna)\n",
    "\n",
    "print(\"The length of the DNA sequence is\" + str(dna_length))"
   ]
  },
  {
   "cell_type": "code",
   "execution_count": 28,
   "metadata": {},
   "outputs": [
    {
     "name": "stdout",
     "output_type": "stream",
     "text": [
      "before: ATGC\n",
      "after: ATGC\n"
     ]
    }
   ],
   "source": [
    "my_dna = \"ATGC\"\n",
    "\n",
    "# print the variable\n",
    "print(\"before: \" + my_dna)\n",
    "\n",
    "# run the lower method and store the result \n",
    "lowercase_dna = my_dna.lower()\n",
    "\n",
    "# print the variable again\n",
    "print(\"after: \" + my_dna)"
   ]
  },
  {
   "cell_type": "code",
   "execution_count": 29,
   "metadata": {},
   "outputs": [
    {
     "name": "stdout",
     "output_type": "stream",
     "text": [
      "ylspadktny\n",
      "ymtpadktnv\n",
      "vlspadktnv\n"
     ]
    }
   ],
   "source": [
    "protein = \"vlspadktnv\"\n",
    "\n",
    "# replace valine with tyrosine\n",
    "print(protein.replace(\"v\", \"y\"))\n",
    "\n",
    "# we can replace more than one character\n",
    "print(protein.replace(\"vls\", \"ymt\"))\n",
    "\n",
    "# the original variable is not affected\n",
    "print(protein)\n"
   ]
  },
  {
   "cell_type": "code",
   "execution_count": 30,
   "metadata": {
    "collapsed": true
   },
   "outputs": [],
   "source": [
    "my_dna = \"ACTGATCGATTACGTATAGTATTTGCTATCATACATATATATCGATGCGTTCAT\"\n",
    "length = len(my_dna)\n",
    "a_count = my_dna.count('A')\n",
    "t_count = my_dna.count('T')\n"
   ]
  },
  {
   "cell_type": "code",
   "execution_count": 31,
   "metadata": {},
   "outputs": [
    {
     "ename": "NameError",
     "evalue": "name 'Print' is not defined",
     "output_type": "error",
     "traceback": [
      "\u001b[0;31m---------------------------------------------------------------------------\u001b[0m",
      "\u001b[0;31mNameError\u001b[0m                                 Traceback (most recent call last)",
      "\u001b[0;32m<ipython-input-31-b63a700eef65>\u001b[0m in \u001b[0;36m<module>\u001b[0;34m()\u001b[0m\n\u001b[1;32m      4\u001b[0m \u001b[0mt_count\u001b[0m \u001b[0;34m=\u001b[0m \u001b[0mmy_dna\u001b[0m\u001b[0;34m.\u001b[0m\u001b[0mcount\u001b[0m\u001b[0;34m(\u001b[0m\u001b[0;34m'T'\u001b[0m\u001b[0;34m)\u001b[0m\u001b[0;34m\u001b[0m\u001b[0m\n\u001b[1;32m      5\u001b[0m \u001b[0;34m\u001b[0m\u001b[0m\n\u001b[0;32m----> 6\u001b[0;31m \u001b[0mPrint\u001b[0m\u001b[0;34m(\u001b[0m\u001b[0;34m\"length: \"\u001b[0m \u001b[0;34m+\u001b[0m \u001b[0mstr\u001b[0m\u001b[0;34m(\u001b[0m\u001b[0mlength\u001b[0m\u001b[0;34m)\u001b[0m\u001b[0;34m)\u001b[0m\u001b[0;34m\u001b[0m\u001b[0m\n\u001b[0m\u001b[1;32m      7\u001b[0m \u001b[0mprint\u001b[0m\u001b[0;34m(\u001b[0m\u001b[0;34m\"A count: \"\u001b[0m \u001b[0;34m+\u001b[0m \u001b[0mstr\u001b[0m\u001b[0;34m(\u001b[0m\u001b[0ma_count\u001b[0m\u001b[0;34m)\u001b[0m\u001b[0;34m)\u001b[0m\u001b[0;34m\u001b[0m\u001b[0m\n\u001b[1;32m      8\u001b[0m \u001b[0mprint\u001b[0m\u001b[0;34m(\u001b[0m\u001b[0;34m\"T count: \"\u001b[0m \u001b[0;34m+\u001b[0m \u001b[0mstr\u001b[0m\u001b[0;34m(\u001b[0m\u001b[0mt_count\u001b[0m\u001b[0;34m)\u001b[0m\u001b[0;34m)\u001b[0m\u001b[0;34m\u001b[0m\u001b[0m\n",
      "\u001b[0;31mNameError\u001b[0m: name 'Print' is not defined"
     ]
    }
   ],
   "source": [
    "my_dna = \"ACTGATCGATTACGTATAGTATTTGCTATCATACATATATATCGATGCGTTCAT\"\n",
    "length = len(my_dna)\n",
    "a_count = my_dna.count('A')\n",
    "t_count = my_dna.count('T')\n",
    "\n",
    "Print(\"length: \" + str(length))\n",
    "print(\"A count: \" + str(a_count))\n",
    "print(\"T count: \" + str(t_count))"
   ]
  },
  {
   "cell_type": "code",
   "execution_count": null,
   "metadata": {},
   "outputs": [],
   "source": [
    "test_dna = \"ATGC\"\n",
    "length = len(test_dna)\n",
    "a_count = test_dna.count('A')\n",
    "t_count = test_dna.count('T')\n",
    "\n",
    "Print(\"length: \" + str(length))\n",
    "print(\"A count: \" + str(a_count))\n",
    "print(\"T count: \" + str(t_count))\n"
   ]
  },
  {
   "cell_type": "code",
   "execution_count": null,
   "metadata": {},
   "outputs": [],
   "source": [
    "\n",
    "test_dna = \"ATGC\"\n",
    "length = len(test_dna)\n",
    "a_count = test_dna.count('A')\n",
    "t_count = test_dna.count('T')\n",
    "\n",
    "at_content = a_count + t_count / length\n",
    "print(\"AT content is \" + str(at_content))"
   ]
  },
  {
   "cell_type": "code",
   "execution_count": null,
   "metadata": {
    "collapsed": true
   },
   "outputs": [],
   "source": [
    "at_content = (a_count + t_count) / length"
   ]
  },
  {
   "cell_type": "code",
   "execution_count": null,
   "metadata": {},
   "outputs": [],
   "source": [
    "my_dna = \"ACTGATCGATTACGTATAGTATTTGCTATCATACATATATATCGATGCGTTCAT\"\n",
    "length = len(my_dna)\n",
    "a_count = my_dna.count('A')\n",
    "t_count = my_dna.count('T')\n",
    "\n",
    "at_content = (a_count + t_count) / length\n",
    "print(\"AT content is \" + str(at_content))"
   ]
  },
  {
   "cell_type": "code",
   "execution_count": 32,
   "metadata": {},
   "outputs": [
    {
     "ename": "NameError",
     "evalue": "name 'relacement1' is not defined",
     "output_type": "error",
     "traceback": [
      "\u001b[0;31m---------------------------------------------------------------------------\u001b[0m",
      "\u001b[0;31mNameError\u001b[0m                                 Traceback (most recent call last)",
      "\u001b[0;32m<ipython-input-32-ce948732cae6>\u001b[0m in \u001b[0;36m<module>\u001b[0;34m()\u001b[0m\n\u001b[1;32m      5\u001b[0m \u001b[0;34m\u001b[0m\u001b[0m\n\u001b[1;32m      6\u001b[0m \u001b[0;31m#replace T with A\u001b[0m\u001b[0;34m\u001b[0m\u001b[0;34m\u001b[0m\u001b[0m\n\u001b[0;32m----> 7\u001b[0;31m \u001b[0mreplacement2\u001b[0m \u001b[0;34m=\u001b[0m \u001b[0mrelacement1\u001b[0m\u001b[0;34m.\u001b[0m\u001b[0mreplace\u001b[0m\u001b[0;34m(\u001b[0m\u001b[0;34m'T'\u001b[0m\u001b[0;34m,\u001b[0m \u001b[0;34m'A'\u001b[0m\u001b[0;34m)\u001b[0m\u001b[0;34m\u001b[0m\u001b[0m\n\u001b[0m\u001b[1;32m      8\u001b[0m \u001b[0;34m\u001b[0m\u001b[0m\n\u001b[1;32m      9\u001b[0m \u001b[0;31m#replace C with G\u001b[0m\u001b[0;34m\u001b[0m\u001b[0;34m\u001b[0m\u001b[0m\n",
      "\u001b[0;31mNameError\u001b[0m: name 'relacement1' is not defined"
     ]
    }
   ],
   "source": [
    "my_dna = \"ACTGATCGATTACGTATAGTATTTGCTATCATACATATATATCGATGCGTTCAT\"\n",
    "\n",
    "# replace A with T\n",
    "replacement1 = my_dna.replace('A', 'T')\n",
    "\n",
    "#replace T with A\n",
    "replacement2 = relacement1.replace('T', 'A')\n",
    "\n",
    "#replace C with G\n",
    "replacement3 = replacement2.replace('C', 'G')\n",
    "\n",
    "#replace G with C\n",
    "replacemant4 = replacement3.replace('G', 'C')\n",
    "\n",
    "# print the result of the final replacement\n",
    "print(replacement4)"
   ]
  },
  {
   "cell_type": "code",
   "execution_count": 33,
   "metadata": {},
   "outputs": [
    {
     "name": "stdout",
     "output_type": "stream",
     "text": [
      "TCTGTTCGTTTTCGTTTTGTTTTTGCTTTCTTTCTTTTTTTTCGTTGCGTTCTT\n"
     ]
    }
   ],
   "source": [
    "my_dna = my_dna = \"ACTGATCGATTACGTATAGTATTTGCTATCATACATATATATCGATGCGTTCAT\"\n",
    "\n",
    "replacement1 = my_dna.replace('A', 'T')\n",
    "print(replacement1)"
   ]
  },
  {
   "cell_type": "code",
   "execution_count": 34,
   "metadata": {},
   "outputs": [
    {
     "name": "stdout",
     "output_type": "stream",
     "text": [
      "TCTGTTCGTTTTCGTTTTGTTTTTGCTTTCTTTCTTTTTTTTCGTTGCGTTCTT\n",
      "ACAGAACGAAAACGAAAAGAAAAAGCAAACAAACAAAAAAAACGAAGCGAACAA\n",
      "AGAGAAGGAAAAGGAAAAGAAAAAGGAAAGAAAGAAAAAAAAGGAAGGGAAGAA\n",
      "ACACAACCAAAACCAAAACAAAAACCAAACAAACAAAAAAAACCAACCCAACAA\n"
     ]
    }
   ],
   "source": [
    "my_dna = my_dna = \"ACTGATCGATTACGTATAGTATTTGCTATCATACATATATATCGATGCGTTCAT\"\n",
    "\n",
    "replacement1 = my_dna.replace('A', 'T')\n",
    "print(replacement1)\n",
    "\n",
    "replacement2 = replacement1.replace('T', 'A')\n",
    "print(replacement2)\n",
    "\n",
    "replacement3 = replacement2.replace('C', 'G')\n",
    "print(replacement3)\n",
    "\n",
    "replacement4 = replacement3.replace('G', 'C')\n",
    "print(replacement4)"
   ]
  },
  {
   "cell_type": "code",
   "execution_count": 35,
   "metadata": {},
   "outputs": [
    {
     "name": "stdout",
     "output_type": "stream",
     "text": [
      "TGACTAGCTAATGCATATCATAAACGATAGTATGTATATATAGCTACGCAAGTA\n"
     ]
    }
   ],
   "source": [
    "my_dna = \"ACTGATCGATTACGTATAGTATTTGCTATCATACATATATATCGATGCGTTCAT\"\n",
    "replacement1 = my_dna.replace('A', 'H')\n",
    "replacement2 = replacement1.replace('T', 'J')\n",
    "replacement3 = replacement2.replace('C', 'K')\n",
    "replacement4 = replacement3.replace('G', 'L')\n",
    "replacement5 = replacement4.replace('H', 'T')\n",
    "replacement6 = replacement5.replace('J', 'A')\n",
    "replacement7 = replacement6.replace('K', 'G')\n",
    "replacement8 = replacement7.replace('L', 'C')\n",
    "print(replacement8)"
   ]
  },
  {
   "cell_type": "code",
   "execution_count": 36,
   "metadata": {},
   "outputs": [
    {
     "name": "stdout",
     "output_type": "stream",
     "text": [
      "tCTGtTCGtTTtCGTtTtGTtTTTGCTtTCtTtCtTtTtTtTCGtTGCGTTCtT\n",
      "tCaGtaCGtaatCGatatGataaaGCataCtatCtatatataCGtaGCGaaCta\n",
      "tgaGtagGtaatgGatatGataaaGgatagtatgtatatatagGtaGgGaagta\n",
      "tgactagctaatgcatatcataaacgatagtatgtatatatagctacgcaagta\n",
      "TGACTAGCTAATGCATATCATAAACGATAGTATGTATATATAGCTACGCAAGTA\n"
     ]
    }
   ],
   "source": [
    "my_dna = \"ACTGATCGATTACGTATAGTATTTGCTATCATACATATATATCGATGCGTTCAT\"\n",
    "replacement1 = my_dna.replace('A', 't')\n",
    "print(replacement1)\n",
    "replacement2 = replacement1.replace('T', 'a')\n",
    "print(replacement2)\n",
    "replacement3 = replacement2.replace('C', 'g')\n",
    "print(replacement3)\n",
    "replacement4 = replacement3.replace('G', 'c')\n",
    "print(replacement4)\n",
    "print(replacement4.upper())"
   ]
  },
  {
   "cell_type": "code",
   "execution_count": 37,
   "metadata": {},
   "outputs": [
    {
     "name": "stdout",
     "output_type": "stream",
     "text": [
      "length of fragment one is 22\n",
      "length of fragment two is 33\n"
     ]
    }
   ],
   "source": [
    "my_dna = \"ACTGATCGATTACGTATAGTAGAATTCTATCATACATATATATCGATGCGTTCAT\"\n",
    "frag1_length = my_dna.find(\"GAATTC\") + 1\n",
    "frag2_length = len(my_dna) - frag1_length\n",
    "print(\"length of fragment one is \" + str(frag1_length))\n",
    "print(\"length of fragment two is \" + str(frag2_length))"
   ]
  },
  {
   "cell_type": "code",
   "execution_count": 39,
   "metadata": {},
   "outputs": [
    {
     "name": "stdout",
     "output_type": "stream",
     "text": [
      "TCGATCGATCGATCGACTGACTAGTCATAGCTATGCATGTAGCTACTCGATCGATCGATCGATCATCGATCGATATCGATGCATCGACTACTAT\n"
     ]
    }
   ],
   "source": [
    "my_dna = \"ATCGATCGATCGATCGACTGACTAGTCATAGCTATGCATGTAGCTACTCGATCGATCGATCGATCGATCGATCGATCGATCGATCATGCTATCATCGATCGATATCGATGCATCGACTACTAT\"\n",
    "exon1 = my_dna[1:63]\n",
    "exon2 = my_dna[91:10000]\n",
    "print(exon1 + exon2)"
   ]
  },
  {
   "cell_type": "code",
   "execution_count": 40,
   "metadata": {},
   "outputs": [
    {
     "name": "stdout",
     "output_type": "stream",
     "text": [
      "0.7723577235772358\n"
     ]
    }
   ],
   "source": [
    "my_dna =\"ATCGATCGATCGATCGACTGACTAGTCATAGCTATGCATGTAGCTACTCGATCGATCGATCGATCGATCGATCGATCGATCGATCATGCTATCATCGATCGATATCGATGCATCGACTACTAT\"\n",
    "exon1 = my_dna[0:62]\n",
    "exon2 = my_dna[90:10000]\n",
    "coding_length = len(exon1 + exon2)\n",
    "total_length = len(my_dna)\n",
    "print(coding_length / total_length)"
   ]
  },
  {
   "cell_type": "code",
   "execution_count": 41,
   "metadata": {},
   "outputs": [
    {
     "name": "stdout",
     "output_type": "stream",
     "text": [
      "77.23577235772358\n"
     ]
    }
   ],
   "source": [
    "my_dna =\"ATCGATCGATCGATCGACTGACTAGTCATAGCTATGCATGTAGCTACTCGATCGATCGATCGATCGATCGATCGATCGATCGATCATGCTATCATCGATCGATATCGATGCATCGACTACTAT\"\n",
    "exon1 = my_dna[0:62]\n",
    "exon2 = my_dna[90:10000]\n",
    "coding_length = len(exon1 + exon2)\n",
    "total_length = len(my_dna)\n",
    "print(100 * coding_length / total_length)"
   ]
  },
  {
   "cell_type": "code",
   "execution_count": 42,
   "metadata": {},
   "outputs": [
    {
     "name": "stdout",
     "output_type": "stream",
     "text": [
      "ATCGATCGATCGATCGACTGACTAGTCATAGCTATGCATGTAGCTACTCGATCGATCGATCGatcgatcgatcgatcgatcgatcatgctATCATCGATCGATATCGATGCATCGACTACTAT\n"
     ]
    }
   ],
   "source": [
    "my_dna =\"ATCGATCGATCGATCGACTGACTAGTCATAGCTATGCATGTAGCTACTCGATCGATCGATCGATCGATCGATCGATCGATCGATCATGCTATCATCGATCGATATCGATGCATCGACTACTAT\"\n",
    "exon1 = my_dna[0:62]\n",
    "intron = my_dna[62:90]\n",
    "exon2 = my_dna[90:10000]\n",
    "print(exon1 + intron.lower() + exon2)"
   ]
  },
  {
   "cell_type": "code",
   "execution_count": null,
   "metadata": {
    "collapsed": true
   },
   "outputs": [],
   "source": []
  }
 ],
 "metadata": {
  "kernelspec": {
   "display_name": "Python 3",
   "language": "python",
   "name": "python3"
  },
  "language_info": {
   "codemirror_mode": {
    "name": "ipython",
    "version": 3
   },
   "file_extension": ".py",
   "mimetype": "text/x-python",
   "name": "python",
   "nbconvert_exporter": "python",
   "pygments_lexer": "ipython3",
   "version": "3.6.1"
  }
 },
 "nbformat": 4,
 "nbformat_minor": 2
}
