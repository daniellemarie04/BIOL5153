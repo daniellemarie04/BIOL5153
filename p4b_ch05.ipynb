{
 "cells": [
  {
   "cell_type": "code",
   "execution_count": 41,
   "metadata": {},
   "outputs": [
    {
     "name": "stdout",
     "output_type": "stream",
     "text": [
      "AT content is 0.6851851851851852\n"
     ]
    }
   ],
   "source": [
    "my_dna = \"ACTGATCGATTACGTATAGTATTTGCTATCATACATATATATCGATGCGTTCAT\"\n",
    "\n",
    "length = len(my_dna)\n",
    "a_count = my_dna.count('A')\n",
    "t_count = my_dna.count('T')\n",
    "at_content = (a_count + t_count) / length\n",
    "\n",
    "print('AT content is ' + str(at_content))\n"
   ]
  },
  {
   "cell_type": "code",
   "execution_count": 42,
   "metadata": {
    "collapsed": true
   },
   "outputs": [],
   "source": [
    "def get_at_content(dna):\n",
    "    length = len(dna)\n",
    "    a_count = dna.count('A')\n",
    "    t_count = dna.count('T')\n",
    "    at_content = (a_count + t_count) / length\n",
    "    return at_content"
   ]
  },
  {
   "cell_type": "code",
   "execution_count": 43,
   "metadata": {},
   "outputs": [],
   "source": [
    "def get_at_content():\n",
    "    dna = \"ACTGATGCTAGCTA\"\n",
    "    length = len(dna)\n",
    "    a_count = dna.upper().count('A')\n",
    "    t_count = dna.upper().count('T')\n",
    "    at_content = (a_count + t_count) / length\n",
    "    return round(at_content, 2)\n",
    "    \n",
    "    \n",
    "    get_at_content(\"ATCGTGACTCG\")\n",
    "    get_at_content(\"ATCGTGACTCG\", 3)\n",
    "    get_at_content(\"ATCGTGACTCG\", sig_figs=4)\n"
   ]
  },
  {
   "cell_type": "code",
   "execution_count": 44,
   "metadata": {},
   "outputs": [
    {
     "ename": "TypeError",
     "evalue": "get_at_content() takes 0 positional arguments but 1 was given",
     "output_type": "error",
     "traceback": [
      "\u001b[0;31m---------------------------------------------------------------------------\u001b[0m",
      "\u001b[0;31mTypeError\u001b[0m                                 Traceback (most recent call last)",
      "\u001b[0;32m<ipython-input-44-698f650bdc6f>\u001b[0m in \u001b[0;36m<module>\u001b[0;34m()\u001b[0m\n\u001b[0;32m----> 1\u001b[0;31m \u001b[0;32massert\u001b[0m \u001b[0mget_at_content\u001b[0m\u001b[0;34m(\u001b[0m\u001b[0;34m\"ATGC\"\u001b[0m\u001b[0;34m)\u001b[0m \u001b[0;34m==\u001b[0m \u001b[0;36m0.5\u001b[0m\u001b[0;34m\u001b[0m\u001b[0m\n\u001b[0m",
      "\u001b[0;31mTypeError\u001b[0m: get_at_content() takes 0 positional arguments but 1 was given"
     ]
    }
   ],
   "source": [
    "assert get_at_content(\"ATGC\") == 0.5"
   ]
  },
  {
   "cell_type": "code",
   "execution_count": null,
   "metadata": {},
   "outputs": [],
   "source": [
    "def get_at_content(dna, sig_figs=2):\n",
    "    dna = dna.replace('N', '')\n",
    "    length + len(dna)\n",
    "    a_count = dna.upper().count('A')\n",
    "    t_count = dna.upper().count('T')\n",
    "    at_content = (a_count + t_count) / length\n",
    "    return round(at_content, sig_figs)\n",
    "\n"
   ]
  },
  {
   "cell_type": "code",
   "execution_count": null,
   "metadata": {},
   "outputs": [],
   "source": [
    "protein = \"MSRSLLLRFLLFLLLLPPLP\"\n",
    "aa = \"R\"\n",
    "def get_aa_percentage(protein, aa):\n",
    "    \n",
    "    #convert both inputs to upper case\n",
    "    protein = protein.upper()\n",
    "    aa = aa.upper()\n",
    "    \n",
    "    \n",
    "    aa_count = protein.count(aa)\n",
    "    protein_length = len(protein)\n",
    "    percentage = aa_count * 100 / protein_length\n",
    "    \n",
    "# test the function with assertions\n",
    "    assert get_aa_percentage(\"MSRSLLLRFLLFLLLLPPLP\", \"M\") == 5\n",
    "    assert get_aa_percentage(\"MSRSLLLRFLLFLLLLPPLP\", \"r\") == 10\n",
    "    assert get_aa_percentage(\"MSRSLLLRFLLFLLLLPPLP\", \"L\") == 50\n",
    "    assert get_aa_percentage(\"MSRSLLLRFLLFLLLLPPLP\", \"Y\") == 0"
   ]
  },
  {
   "cell_type": "code",
   "execution_count": 45,
   "metadata": {},
   "outputs": [
    {
     "name": "stdout",
     "output_type": "stream",
     "text": [
      "counting number of M\n",
      "running total is 1\n",
      "final percentage is 5.0\n",
      "counting number of L\n",
      "running total is 11\n",
      "final percentage is 55.0\n",
      "counting number of F\n",
      "running total is 13\n",
      "final percentage is 65.0\n"
     ]
    }
   ],
   "source": [
    "protein = \"MSRSLLLRFLLFLLLLPPLP\"\n",
    "aa_list = ['M', 'L', 'F']\n",
    "\n",
    "# the total variable will hold the total number of matching residues\n",
    "total = 0\n",
    "for aa in aa_list:\n",
    "    print(\"counting number of \" + aa)\n",
    "    aa = aa.upper()\n",
    "    aa_count = protein.count(aa)\n",
    "    \n",
    "    # add the number for this residue to the total count\n",
    "    total = total + aa_count\n",
    "    print(\"running total is \" + str(total))\n",
    "    \n",
    "    percentage = total * 100 / len(protein)\n",
    "    print(\"final percentage is \" + str(percentage))"
   ]
  },
  {
   "cell_type": "code",
   "execution_count": 46,
   "metadata": {
    "collapsed": true
   },
   "outputs": [],
   "source": [
    "protein = \"MSRSLLLRFLLFLLLLPPLP\"\n",
    "aa = \"R\"\n",
    "def get_aa_percentage(protein, aa_list=['A', 'I', 'L', 'M', 'F', 'W', 'Y', 'V']):\n",
    "    \n",
    "    protein = protein.upper()\n",
    "    protein_length = len(protein)\n",
    "    total = 0\n",
    "    for aa in aa_list:\n",
    "        aa = aa.upper()\n",
    "        aa_count = protein.count(aa)\n",
    "        total = total + aa_count\n",
    "    percentage = aa_count * 100 / protein_length\n",
    "    return percentage\n",
    "    \n",
    "\n",
    "    assert get_aa_percentage(\"MSRSLLLRFLLFLLLLPPLP\", [\"M\"]) == 5\n",
    "    assert get_aa_percentage(\"MSRSLLLRFLLFLLLLPPLP\", ['M', 'L']) == 55\n",
    "    assert get_aa_percentage(\"MSRSLLLRFLLFLLLLPPLP\", ['F,', 'S', 'L']) == 70\n",
    "    assert get_aa_percentage(\"MSRSLLLRFLLFLLLLPPLP\") == 65"
   ]
  },
  {
   "cell_type": "code",
   "execution_count": null,
   "metadata": {
    "collapsed": true
   },
   "outputs": [],
   "source": []
  }
 ],
 "metadata": {
  "kernelspec": {
   "display_name": "Python 3",
   "language": "python",
   "name": "python3"
  },
  "language_info": {
   "codemirror_mode": {
    "name": "ipython",
    "version": 3
   },
   "file_extension": ".py",
   "mimetype": "text/x-python",
   "name": "python",
   "nbconvert_exporter": "python",
   "pygments_lexer": "ipython3",
   "version": "3.6.1"
  }
 },
 "nbformat": 4,
 "nbformat_minor": 2
}
