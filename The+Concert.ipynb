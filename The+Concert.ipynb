{
 "cells": [
  {
   "cell_type": "code",
   "execution_count": 17,
   "metadata": {},
   "outputs": [
    {
     "name": "stdout",
     "output_type": "stream",
     "text": [
      "Katherine\n",
      "Catheryn\n",
      "Cathryn\n",
      "Kathryn\n",
      "Katherine\n",
      "Catherine\n",
      "Kathrin\n"
     ]
    }
   ],
   "source": [
    "import re\n",
    "\n",
    "cats = ['Katherine', 'Catheryn','Cathryn' ,'Kathryn' ,'Katherine' ,'Catherine' ,'Kathrin' ,'katharine']\n",
    "for cat in cats:\n",
    "    if re.search(r\"K|C\", cat):\n",
    "        print(cat)\n",
    "\n",
    "    \n",
    "    "
   ]
  },
  {
   "cell_type": "code",
   "execution_count": null,
   "metadata": {
    "collapsed": true
   },
   "outputs": [],
   "source": []
  }
 ],
 "metadata": {
  "kernelspec": {
   "display_name": "Python 3",
   "language": "python",
   "name": "python3"
  },
  "language_info": {
   "codemirror_mode": {
    "name": "ipython",
    "version": 3
   },
   "file_extension": ".py",
   "mimetype": "text/x-python",
   "name": "python",
   "nbconvert_exporter": "python",
   "pygments_lexer": "ipython3",
   "version": "3.6.1"
  }
 },
 "nbformat": 4,
 "nbformat_minor": 2
}
