{
 "cells": [
  {
   "cell_type": "code",
   "execution_count": 34,
   "metadata": {},
   "outputs": [
    {
     "name": "stdout",
     "output_type": "stream",
     "text": [
      "GC[ATGC]GC\n"
     ]
    }
   ],
   "source": [
    " enzymes = { 'EcoRI' :r'GAATTC', 'AVaII' :r'GG(A|T)CC', 'BisI' :r'GC[ATGC]GC' }\n",
    "    \n",
    "print(enzymes['BisI'])\n"
   ]
  },
  {
   "cell_type": "code",
   "execution_count": 35,
   "metadata": {
    "collapsed": true
   },
   "outputs": [],
   "source": [
    "dna = \"ATGTTCGGT\"\n"
   ]
  },
  {
   "cell_type": "code",
   "execution_count": 36,
   "metadata": {
    "collapsed": true
   },
   "outputs": [],
   "source": [
    "gencode = {\n",
    "    'ATA':'I', 'ATC':'I', 'ATT':'I', 'ATG':'M',\n",
    "    'ACA':'T', 'ACC':'T', 'ACG':'T', 'ACT':'T',\n",
    "    'AAC':'N', 'AAT':'N', 'AAA':'K', 'AAG':'K',\n",
    "    'AGC':'S', 'AGT':'S', 'AGA':'R', 'AGG':'R',\n",
    "    'CTA':'L', 'CTC':'L', 'CTG':'L', 'CTT':'L',\n",
    "    'CCA':'P', 'CCC':'P', 'CCG':'P', 'CCT':'P',\n",
    "    'CAC':'H', 'CAT':'H', 'CAA':'Q', 'CAG':'Q',\n",
    "    'CGA':'R', 'CGC':'R', 'CGG':'R', 'CGT':'R',\n",
    "    'GTA':'V', 'GTC':'V', 'GTG':'V', 'GTT':'V',\n",
    "    'GCA':'A', 'GCC':'A', 'GCG':'A', 'GCT':'A',\n",
    "    'GAC':'D', 'GAT':'D', 'GAA':'E', 'GAG':'E',\n",
    "    'GGA':'G', 'GGC':'G', 'GGG':'G', 'GGT':'G',\n",
    "    'TCA':'S', 'TCC':'S', 'TCG':'S', 'TCT':'S',\n",
    "    'TTC':'F', 'TTT':'F', 'TTA':'L', 'TTG':'L',\n",
    "    'TAC':'Y', 'TAT':'Y', 'TAA':'_', 'TAG':'_',\n",
    "    'TGC':'C', 'TGT':'C', 'TGA':'_', 'TGG':'W'}"
   ]
  },
  {
   "cell_type": "code",
   "execution_count": 37,
   "metadata": {},
   "outputs": [
    {
     "name": "stdout",
     "output_type": "stream",
     "text": [
      "ATA ATC ATT\n"
     ]
    }
   ],
   "source": [
    "dna = \"ATAATCATTATGACAACCACGACTAACAATAAAAAG\"\n",
    "codon1 = dna[0:3]\n",
    "codon2 = dna[3:6]\n",
    "codon3 = dna[6:9]\n",
    "print(codon1, codon2, codon3)"
   ]
  },
  {
   "cell_type": "code",
   "execution_count": 38,
   "metadata": {},
   "outputs": [
    {
     "name": "stdout",
     "output_type": "stream",
     "text": [
      "one codon isATA\n",
      "one codon isATC\n",
      "one codon isATT\n"
     ]
    }
   ],
   "source": [
    "dna = \"ATAATCATTATGACAACCACGACTAACAATAAAAAG\"\n",
    "for start in range(0,7,3):\n",
    "    codon = dna[start:start + 3]\n",
    "    print(\"one codon is\" + codon)\n",
    "    "
   ]
  },
  {
   "cell_type": "code",
   "execution_count": 39,
   "metadata": {},
   "outputs": [
    {
     "name": "stdout",
     "output_type": "stream",
     "text": [
      "one codon isATA\n",
      "the amino acid isI\n",
      "one codon isATC\n",
      "the amino acid isI\n",
      "one codon isATT\n",
      "the amino acid isI\n",
      "one codon isATG\n",
      "the amino acid isM\n",
      "one codon isACA\n",
      "the amino acid isT\n",
      "one codon isACC\n",
      "the amino acid isT\n",
      "one codon isACG\n",
      "the amino acid isT\n",
      "one codon isACT\n",
      "the amino acid isT\n",
      "one codon isAAC\n",
      "the amino acid isN\n",
      "one codon isAAT\n",
      "the amino acid isN\n",
      "one codon isAAA\n",
      "the amino acid isK\n",
      "one codon isAAG\n",
      "the amino acid isK\n"
     ]
    }
   ],
   "source": [
    "dna = \"ATAATCATTATGACAACCACGACTAACAATAAAAAG\"\n",
    "for start in range(0, len(dna), 3):\n",
    "    codon = dna[start:start+3]\n",
    "    aa = gencode.get(codon)\n",
    "    print(\"one codon is\" + codon)\n",
    "    print(\"the amino acid is\" + aa)"
   ]
  },
  {
   "cell_type": "code",
   "execution_count": 40,
   "metadata": {},
   "outputs": [
    {
     "name": "stdout",
     "output_type": "stream",
     "text": [
      "protein sequence is IIIMTTTTNNKK\n"
     ]
    }
   ],
   "source": [
    "dna = \"ATAATCATTATGACAACCACGACTAACAATAAAAAG\"\n",
    "\n",
    "protein = \"\"\n",
    "for start in range(0, len(dna), 3):\n",
    "    codon = dna[start:start+3]\n",
    "    aa = gencode.get(codon)\n",
    "    protein = protein + aa\n",
    "    \n",
    "print(\"protein sequence is \" + protein)"
   ]
  },
  {
   "cell_type": "code",
   "execution_count": 42,
   "metadata": {},
   "outputs": [
    {
     "name": "stdout",
     "output_type": "stream",
     "text": [
      "codon is ATA\n",
      "codon is ATC\n",
      "codon is ATT\n",
      "III\n"
     ]
    }
   ],
   "source": [
    "dna = \"ATAATCATTATGACAACCACGACTAACAATAAAAAG\"\n",
    "def translate_dna(dna):\n",
    "    \n",
    "    protein = \"\"\n",
    "    for start in range(0,len(dna),3):\n",
    "        codon = dna[start:start+3]\n",
    "        print(\"codon is \" +codon)\n",
    "        aa = gencode.get(codon)\n",
    "        protein = protein + aa\n",
    "    return protein\n",
    "\n",
    "print(translate_dna(\"ATAATCATT\"))"
   ]
  },
  {
   "cell_type": "code",
   "execution_count": null,
   "metadata": {
    "collapsed": true
   },
   "outputs": [],
   "source": []
  }
 ],
 "metadata": {
  "kernelspec": {
   "display_name": "Python 3",
   "language": "python",
   "name": "python3"
  },
  "language_info": {
   "codemirror_mode": {
    "name": "ipython",
    "version": 3
   },
   "file_extension": ".py",
   "mimetype": "text/x-python",
   "name": "python",
   "nbconvert_exporter": "python",
   "pygments_lexer": "ipython3",
   "version": "3.6.1"
  }
 },
 "nbformat": 4,
 "nbformat_minor": 2
}
