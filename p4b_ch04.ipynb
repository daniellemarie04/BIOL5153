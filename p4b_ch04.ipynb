{
 "cells": [
  {
   "cell_type": "code",
   "execution_count": 1,
   "metadata": {
    "collapsed": true
   },
   "outputs": [],
   "source": [
    "# set the values of all the sequence variables\n",
    "seq_1 = \"ATCGTACGATCGATCGCTAGACGTATCG\"\n",
    "seq_2 = \"actgatcgacgatcgatcgatcacgact\"\n",
    "seq_3 = \"ACTGAC-ACTGT—ACTGTA----CATGTG\""
   ]
  },
  {
   "cell_type": "code",
   "execution_count": 3,
   "metadata": {},
   "outputs": [
    {
     "ename": "NameError",
     "evalue": "name 'header_1' is not defined",
     "output_type": "error",
     "traceback": [
      "\u001b[0;31m---------------------------------------------------------------------------\u001b[0m",
      "\u001b[0;31mNameError\u001b[0m                                 Traceback (most recent call last)",
      "\u001b[0;32m<ipython-input-3-3a0c6c96b06e>\u001b[0m in \u001b[0;36m<module>\u001b[0;34m()\u001b[0m\n\u001b[1;32m      1\u001b[0m \u001b[0;31m# make three files to hold the output\u001b[0m\u001b[0;34m\u001b[0m\u001b[0;34m\u001b[0m\u001b[0m\n\u001b[0;32m----> 2\u001b[0;31m \u001b[0moutput_1\u001b[0m \u001b[0;34m=\u001b[0m \u001b[0mopen\u001b[0m\u001b[0;34m(\u001b[0m\u001b[0mheader_1\u001b[0m \u001b[0;34m+\u001b[0m \u001b[0;34m\".fasta\"\u001b[0m\u001b[0;34m,\u001b[0m \u001b[0;34m\"w\"\u001b[0m\u001b[0;34m)\u001b[0m\u001b[0;34m\u001b[0m\u001b[0m\n\u001b[0m\u001b[1;32m      3\u001b[0m \u001b[0moutput_2\u001b[0m \u001b[0;34m=\u001b[0m \u001b[0mopen\u001b[0m\u001b[0;34m(\u001b[0m\u001b[0mheader_2\u001b[0m \u001b[0;34m+\u001b[0m \u001b[0;34m\".fasta\"\u001b[0m\u001b[0;34m,\u001b[0m \u001b[0;34m\"w\"\u001b[0m\u001b[0;34m)\u001b[0m\u001b[0;34m\u001b[0m\u001b[0m\n\u001b[1;32m      4\u001b[0m \u001b[0moutput_3\u001b[0m \u001b[0;34m=\u001b[0m \u001b[0mopen\u001b[0m\u001b[0;34m(\u001b[0m\u001b[0mheader_3\u001b[0m \u001b[0;34m+\u001b[0m \u001b[0;34m\".fasta\"\u001b[0m\u001b[0;34m,\u001b[0m \u001b[0;34m\"w\"\u001b[0m\u001b[0;34m)\u001b[0m\u001b[0;34m\u001b[0m\u001b[0m\n",
      "\u001b[0;31mNameError\u001b[0m: name 'header_1' is not defined"
     ]
    }
   ],
   "source": [
    "# make three files to hold the output\n",
    "# need to make a header? output = header_1.....\n",
    "output_1 = open(header_1 + \".fasta\", \"w\")\n",
    "output_2 = open(header_2 + \".fasta\", \"w\")\n",
    "output_3 = open(header_3 + \".fasta\", \"w\")\n"
   ]
  },
  {
   "cell_type": "code",
   "execution_count": 5,
   "metadata": {},
   "outputs": [
    {
     "name": "stdout",
     "output_type": "stream",
     "text": [
      "Homo sapiens\n"
     ]
    }
   ],
   "source": [
    "apes = [\"Homo sapiens\", \"Pan troglodytes\", \"Gorilla gorilla\"]\n",
    "conserved_sites = [24, 56, 132]\n",
    "print(apes[0])\n",
    "first_site = conserved_sites[2]"
   ]
  },
  {
   "cell_type": "code",
   "execution_count": 7,
   "metadata": {
    "collapsed": true
   },
   "outputs": [],
   "source": [
    "apes = [\"Homo sapiens\", \"Pan troglodytes\", \"Gorilla gorilla\"]\n",
    "chimp_index = apes.index(\"Pan troglodytes\")\n",
    "# chimp_index is now 1"
   ]
  },
  {
   "cell_type": "code",
   "execution_count": 8,
   "metadata": {
    "collapsed": true
   },
   "outputs": [],
   "source": [
    "last_apes = apes[-1]"
   ]
  },
  {
   "cell_type": "code",
   "execution_count": 10,
   "metadata": {},
   "outputs": [
    {
     "name": "stdout",
     "output_type": "stream",
     "text": [
      "['class', 'order', 'family']\n"
     ]
    }
   ],
   "source": [
    "ranks = [\"kingdom\",\"phylum\", \"class\", \"order\", \"family\"]\n",
    "lower_ranks = ranks[2:5]\n",
    "print(lower_ranks)\n",
    "# lower ranks are class, order, and family"
   ]
  },
  {
   "cell_type": "code",
   "execution_count": 11,
   "metadata": {},
   "outputs": [
    {
     "name": "stdout",
     "output_type": "stream",
     "text": [
      "['Homo sapiens', 'Pan troglodytes', 'Gorilla gorilla']\n",
      "['Homo sapiens', 'Pan troglodytes', 'Gorilla gorilla', 'Pan paniscus']\n"
     ]
    }
   ],
   "source": [
    "apes = [\"Homo sapiens\", \"Pan troglodytes\", \"Gorilla gorilla\"]\n",
    "print(apes)\n",
    "apes.append(\"Pan paniscus\")\n",
    "print(apes)"
   ]
  },
  {
   "cell_type": "code",
   "execution_count": 14,
   "metadata": {},
   "outputs": [
    {
     "name": "stdout",
     "output_type": "stream",
     "text": [
      "The are 3 apes\n",
      "Now there are 4apes\n"
     ]
    }
   ],
   "source": [
    "apes = [\"Homo sapiens\", \"Pan troglodytes\", \"Gorilla gorilla\"]\n",
    "print(\"The are \" + str(len(apes)) + \" apes\")\n",
    "apes.append(\"Pan paniscus\")\n",
    "print(\"Now there are \" + str(len(apes)) + \"apes\")"
   ]
  },
  {
   "cell_type": "code",
   "execution_count": 13,
   "metadata": {},
   "outputs": [
    {
     "name": "stdout",
     "output_type": "stream",
     "text": [
      "There are 3 apes\n",
      "Now there are 4 apes\n"
     ]
    }
   ],
   "source": [
    "apes = [\"Homo sapiens\", \"Pan troglodytes\", \"Gorilla gorilla\"]\n",
    "print(\"There are \" + str(len(apes)) + \" apes\")\n",
    "apes.append(\"Pan paniscus\")\n",
    "print(\"Now there are \" + str(len(apes)) + \" apes\")"
   ]
  },
  {
   "cell_type": "code",
   "execution_count": 20,
   "metadata": {},
   "outputs": [
    {
     "name": "stdout",
     "output_type": "stream",
     "text": [
      "3 apes\n",
      "2 monkeys\n",
      "5 primates\n"
     ]
    }
   ],
   "source": [
    "apes = [\"Homo sapiens\", \"Pan troglodytes\", \"Gorilla gorilla\"]\n",
    "monkeys = [\"Papio ursinus\", \"Macaca mulatta\"]\n",
    "primates = apes + monkeys\n",
    "print(str(len(apes)) + \" apes\")\n",
    "print(str(len(monkeys)) + \" monkeys\")\n",
    "print(str(len(primates)) + \" primates\")"
   ]
  },
  {
   "cell_type": "code",
   "execution_count": 17,
   "metadata": {},
   "outputs": [
    {
     "name": "stdout",
     "output_type": "stream",
     "text": [
      "3 apes\n",
      "2 monkeys\n",
      "5 primates\n"
     ]
    }
   ],
   "source": [
    "apes = [\"Homo sapiens\", \"Pan troglodytes\", \"Gorilla gorilla\"]\n",
    "monkeys = [\"Papio ursinus\", \"Macaca mulatta\"]\n",
    "primates = apes + monkeys\n",
    "print(str(len(apes)) + \" apes\")\n",
    "print(str(len(monkeys)) + \" monkeys\")\n",
    "print(str(len(primates)) + \" primates\")"
   ]
  },
  {
   "cell_type": "code",
   "execution_count": 21,
   "metadata": {},
   "outputs": [
    {
     "name": "stdout",
     "output_type": "stream",
     "text": [
      "at the start: ['kingdoms', 'phylum', 'class', 'order', 'family']\n",
      "after reversing : ['family', 'order', 'class', 'phylum', 'kingdoms']\n",
      "after sorting : ['class', 'family', 'kingdoms', 'order', 'phylum']\n"
     ]
    }
   ],
   "source": [
    "ranks = [\"kingdoms\", \"phylum\", \"class\", \"order\", \"family\"]\n",
    "print(\"at the start: \" + str(ranks))\n",
    "\n",
    "ranks.reverse()\n",
    "print(\"after reversing : \" + str(ranks))\n",
    "\n",
    "ranks.sort()\n",
    "print('after sorting : ' + str(ranks))"
   ]
  },
  {
   "cell_type": "code",
   "execution_count": 22,
   "metadata": {
    "collapsed": true
   },
   "outputs": [],
   "source": [
    "apes = [\"Homo sapiens\", \"Pan troglodytes\", \"Gorilla gorilla\"]"
   ]
  },
  {
   "cell_type": "code",
   "execution_count": 23,
   "metadata": {},
   "outputs": [
    {
     "name": "stdout",
     "output_type": "stream",
     "text": [
      "Homo sapiens is an ape\n",
      "Pan troglodytes is an ape\n",
      "Gorilla gorilla is an ape\n"
     ]
    }
   ],
   "source": [
    "for ape in apes:\n",
    "    print(ape + \" is an ape\")"
   ]
  },
  {
   "cell_type": "code",
   "execution_count": 24,
   "metadata": {},
   "outputs": [
    {
     "name": "stdout",
     "output_type": "stream",
     "text": [
      "Homo sapiens is an ape. Its name starts with H\n",
      "Its name has 12 letters\n",
      "Pan troglodytes is an ape. Its name starts with P\n",
      "Its name has 15 letters\n",
      "Gorilla gorilla is an ape. Its name starts with G\n",
      "Its name has 15 letters\n"
     ]
    }
   ],
   "source": [
    "apes = [\"Homo sapiens\", \"Pan troglodytes\", \"Gorilla gorilla\"]\n",
    "\n",
    "for ape in apes:\n",
    "\tname_length = len(ape)\n",
    "\tfirst_letter = ape[0]\n",
    "\tprint(ape + \" is an ape. Its name starts with \" + first_letter)\n",
    "\tprint(\"Its name has \" + str(name_length) + \" letters\")\n"
   ]
  },
  {
   "cell_type": "code",
   "execution_count": 25,
   "metadata": {},
   "outputs": [
    {
     "name": "stdout",
     "output_type": "stream",
     "text": [
      "one character is p\n",
      "one character is y\n",
      "one character is t\n",
      "one character is h\n",
      "one character is o\n",
      "one character is n\n"
     ]
    }
   ],
   "source": [
    "name = \"python\"\n",
    "for character in name:\n",
    "\tprint(\"one character is \" + character)"
   ]
  },
  {
   "cell_type": "code",
   "execution_count": 26,
   "metadata": {},
   "outputs": [
    {
     "name": "stdout",
     "output_type": "stream",
     "text": [
      "['melanogaster', 'simulans', 'yakuba', 'ananassae']\n"
     ]
    }
   ],
   "source": [
    "names = \"melanogaster,simulans,yakuba,ananassae\"\n",
    "species = names.split(\",\")\n",
    "print(str(species))"
   ]
  },
  {
   "cell_type": "code",
   "execution_count": 29,
   "metadata": {},
   "outputs": [
    {
     "ename": "SyntaxError",
     "evalue": "unexpected EOF while parsing (<ipython-input-29-932fdd47d853>, line 3)",
     "output_type": "error",
     "traceback": [
      "\u001b[0;36m  File \u001b[0;32m\"<ipython-input-29-932fdd47d853>\"\u001b[0;36m, line \u001b[0;32m3\u001b[0m\n\u001b[0;31m    # do something with the line\u001b[0m\n\u001b[0m                                ^\u001b[0m\n\u001b[0;31mSyntaxError\u001b[0m\u001b[0;31m:\u001b[0m unexpected EOF while parsing\n"
     ]
    }
   ],
   "source": [
    "file = open(\"some_input.txt\")\n",
    "for line in file:\n",
    "    # do something with the line"
   ]
  },
  {
   "cell_type": "code",
   "execution_count": 30,
   "metadata": {},
   "outputs": [
    {
     "ename": "FileNotFoundError",
     "evalue": "[Errno 2] No such file or directory: 'some_input.txt'",
     "output_type": "error",
     "traceback": [
      "\u001b[0;31m---------------------------------------------------------------------------\u001b[0m",
      "\u001b[0;31mFileNotFoundError\u001b[0m                         Traceback (most recent call last)",
      "\u001b[0;32m<ipython-input-30-3da97297ac37>\u001b[0m in \u001b[0;36m<module>\u001b[0;34m()\u001b[0m\n\u001b[0;32m----> 1\u001b[0;31m \u001b[0mfile\u001b[0m \u001b[0;34m=\u001b[0m \u001b[0mopen\u001b[0m\u001b[0;34m(\u001b[0m\u001b[0;34m\"some_input.txt\"\u001b[0m\u001b[0;34m)\u001b[0m\u001b[0;34m\u001b[0m\u001b[0m\n\u001b[0m",
      "\u001b[0;31mFileNotFoundError\u001b[0m: [Errno 2] No such file or directory: 'some_input.txt'"
     ]
    }
   ],
   "source": [
    "file = open(\"some_input.txt\")"
   ]
  },
  {
   "cell_type": "code",
   "execution_count": 31,
   "metadata": {
    "collapsed": true
   },
   "outputs": [],
   "source": [
    "protien = \"vlspadktnv\""
   ]
  },
  {
   "cell_type": "code",
   "execution_count": 36,
   "metadata": {},
   "outputs": [
    {
     "name": "stdout",
     "output_type": "stream",
     "text": [
      "v\n",
      "vl\n",
      "vls\n"
     ]
    }
   ],
   "source": [
    "protein = \"vlspadktnv\"\n",
    "print(protein[0:1])\n",
    "print(protein[0:2])\n",
    "print(protein[0:3])"
   ]
  },
  {
   "cell_type": "code",
   "execution_count": 38,
   "metadata": {},
   "outputs": [
    {
     "name": "stdout",
     "output_type": "stream",
     "text": [
      "vls\n",
      "vlsp\n",
      "vlspa\n",
      "vlspad\n",
      "vlspadk\n",
      "vlspadkt\n",
      "vlspadktn\n",
      "vlspadktnv\n"
     ]
    }
   ],
   "source": [
    "stop_positions = [3,4,5,6,7,8,9,10]\n",
    "for stop in stop_positions:\n",
    "    substring = protein[0:stop]\n",
    "    print(substring)"
   ]
  },
  {
   "cell_type": "code",
   "execution_count": 40,
   "metadata": {},
   "outputs": [
    {
     "name": "stdout",
     "output_type": "stream",
     "text": [
      "0\n",
      "1\n",
      "2\n",
      "3\n",
      "4\n",
      "5\n"
     ]
    }
   ],
   "source": [
    "for number in range(6):\n",
    "    print(number)"
   ]
  },
  {
   "cell_type": "code",
   "execution_count": 41,
   "metadata": {},
   "outputs": [
    {
     "name": "stdout",
     "output_type": "stream",
     "text": [
      "3\n",
      "4\n",
      "5\n",
      "6\n",
      "7\n"
     ]
    }
   ],
   "source": [
    "for number in range(3,8):\n",
    "    print(number)"
   ]
  },
  {
   "cell_type": "code",
   "execution_count": 43,
   "metadata": {},
   "outputs": [
    {
     "data": {
      "text/plain": [
       "<_io.TextIOWrapper name='genomic_dna.txt' mode='r' encoding='UTF-8'>"
      ]
     },
     "execution_count": 43,
     "metadata": {},
     "output_type": "execute_result"
    }
   ],
   "source": [
    "open(\"genomic_dna.txt\")"
   ]
  },
  {
   "cell_type": "code",
   "execution_count": 44,
   "metadata": {
    "collapsed": true
   },
   "outputs": [],
   "source": [
    "file = open(\"genomic_dna.txt\")"
   ]
  },
  {
   "cell_type": "code",
   "execution_count": 45,
   "metadata": {},
   "outputs": [
    {
     "name": "stdout",
     "output_type": "stream",
     "text": [
      "ATTCGATTATAAGCTCGATCGATCGATCGATCGATCGATCGATCGATCGATCGATC\n",
      "\n",
      "ATTCGATTATAAGCACTGATCGATCGATCGATCGATCGATGCTATCGTCGT\n",
      "\n",
      "ATTCGATTATAAGCATCGATCACGATCTATCGTACGTATGCATATCGATATCGATCGTAGTC\n",
      "\n",
      "ATTCGATTATAAGCACTATCGATGATCTAGCTACGATCGTAGCTGTA\n",
      "\n",
      "ATTCGATTATAAGCACTAGCTAGTCTCGATGCATGATCAGCTTAGCTGATGATGCTATGCA\n",
      "\n"
     ]
    }
   ],
   "source": [
    "file = open(\"input.txt\")\n",
    "for dna in file:\n",
    "    print(dna)"
   ]
  },
  {
   "cell_type": "code",
   "execution_count": 46,
   "metadata": {},
   "outputs": [
    {
     "name": "stdout",
     "output_type": "stream",
     "text": [
      "TCGATCGATCGATCGATCGATCGATCGATCGATCGATCGATC\n",
      "\n",
      "ACTGATCGATCGATCGATCGATCGATGCTATCGTCGT\n",
      "\n",
      "ATCGATCACGATCTATCGTACGTATGCATATCGATATCGATCGTAGTC\n",
      "\n",
      "ACTATCGATGATCTAGCTACGATCGTAGCTGTA\n",
      "\n",
      "ACTAGCTAGTCTCGATGCATGATCAGCTTAGCTGATGATGCTATGCA\n",
      "\n"
     ]
    }
   ],
   "source": [
    "file = open(\"input.txt\")\n",
    "for dna in file:\n",
    "    trimmed_dna = dna[14:]\n",
    "    print(trimmed_dna)"
   ]
  },
  {
   "cell_type": "code",
   "execution_count": 49,
   "metadata": {},
   "outputs": [],
   "source": [
    "file = open(\"input.txt\")\n",
    "output = open(\"trimmed.txt\", \"w\")\n",
    "for dna in file:\n",
    "    last_character_position = len(dna)\n",
    "    trimmed_dna[14:last_character_position]\n",
    "    output.write(trimmed_dna)\n",
    "output.close()"
   ]
  },
  {
   "cell_type": "code",
   "execution_count": 57,
   "metadata": {},
   "outputs": [
    {
     "name": "stdout",
     "output_type": "stream",
     "text": [
      "ACTAGCTAGTCTCGATGCATGATCAGCTTAGCTGATGATGCTATGCA\n",
      "\n",
      "ACTAGCTAGTCTCGATGCATGATCAGCTTAGCTGATGATGCTATGCA\n",
      "\n",
      "ACTAGCTAGTCTCGATGCATGATCAGCTTAGCTGATGATGCTATGCA\n",
      "\n",
      "ACTAGCTAGTCTCGATGCATGATCAGCTTAGCTGATGATGCTATGCA\n",
      "\n",
      "ACTAGCTAGTCTCGATGCATGATCAGCTTAGCTGATGATGCTATGCA\n",
      "\n"
     ]
    }
   ],
   "source": [
    "file = open(\"trimmed.txt\")\n",
    "for dna in file:\n",
    "    print(trimmed_dna)"
   ]
  },
  {
   "cell_type": "code",
   "execution_count": 58,
   "metadata": {},
   "outputs": [
    {
     "name": "stdout",
     "output_type": "stream",
     "text": [
      "processes sequence with length 43\n",
      "processes sequence with length 38\n",
      "processes sequence with length 49\n",
      "processes sequence with length 34\n",
      "processes sequence with length 48\n"
     ]
    }
   ],
   "source": [
    "# open the input file\n",
    "file = open(\"input.txt\")\n",
    "\n",
    "# open the output file\n",
    "output = open(\"trimmed.txt\", \"w\")\n",
    "\n",
    "# go throught the input file one line at a time\n",
    "for dna in file:\n",
    "    \n",
    "    # get the substring from the 15th character to the end\n",
    "    trimmed_dna = dna[14:]\n",
    "    \n",
    "    # print out the trimmed sequence\n",
    "    output.write(trimmed_dna)\n",
    "    \n",
    "    # print out the length to the screen\n",
    "    print(\"processes sequence with length \" + str(len(trimmed_dna)))\n",
    "    \n",
    "# close the output file\n",
    "output.close()"
   ]
  },
  {
   "cell_type": "code",
   "execution_count": 61,
   "metadata": {},
   "outputs": [
    {
     "name": "stdout",
     "output_type": "stream",
     "text": [
      "['5', '58\\n']\n",
      "['72', '133\\n']\n",
      "['190', '276\\n']\n",
      "['340', '398\\n']\n"
     ]
    }
   ],
   "source": [
    "exon_locations = open(\"exons.txt\")\n",
    "for line in exon_locations:\n",
    "    positions = line.split(',')\n",
    "    print(positions)"
   ]
  },
  {
   "cell_type": "code",
   "execution_count": 62,
   "metadata": {},
   "outputs": [
    {
     "name": "stdout",
     "output_type": "stream",
     "text": [
      "start is 5, stop is 58\n",
      "\n",
      "start is 72, stop is 133\n",
      "\n",
      "start is 190, stop is 276\n",
      "\n",
      "start is 340, stop is 398\n",
      "\n"
     ]
    }
   ],
   "source": [
    "exon_locations = open(\"exons.txt\")\n",
    "for line in exon_locations:\n",
    "    positions = line.split(',')\n",
    "    start = positions[0]\n",
    "    stop = positions[1]\n",
    "    print(\"start is \" + start + \", stop is \" + stop)"
   ]
  },
  {
   "cell_type": "code",
   "execution_count": 63,
   "metadata": {},
   "outputs": [
    {
     "name": "stdout",
     "output_type": "stream",
     "text": [
      "coding sequence is : CGTACCGTCGACGATGCTACGATCGTCGATCGTAGTCGATCATCGATCGATCG\n",
      "coding sequence is : CGTACCGTCGACGATGCTACGATCGTCGATCGTAGTCGATCATCGATCGATCGCGATCGATCGATATCGATCGATATCATCGATGCATCGATCATCGATCGATCGATCGATCGA\n",
      "coding sequence is : CGTACCGTCGACGATGCTACGATCGTCGATCGTAGTCGATCATCGATCGATCGCGATCGATCGATATCGATCGATATCATCGATGCATCGATCATCGATCGATCGATCGATCGACGATCGATCGATCGTAGCTAGCTAGCTAGATCGATCATCATCGTAGCTAGCTCGACTAGCTACGTACGATCGATGCATCGATCGTA\n",
      "coding sequence is : CGTACCGTCGACGATGCTACGATCGTCGATCGTAGTCGATCATCGATCGATCGCGATCGATCGATATCGATCGATATCATCGATGCATCGATCATCGATCGATCGATCGATCGACGATCGATCGATCGTAGCTAGCTAGCTAGATCGATCATCATCGTAGCTAGCTCGACTAGCTACGTACGATCGATGCATCGATCGTACGATCGATCGATCGATCGATCGATCGATCGATCGATCGATCGTAGCTAGCTACGATCG\n"
     ]
    }
   ],
   "source": [
    "genomic_dna = open(\"genomic_dna.txt\").read()\n",
    "exon_locations = open(\"exons.txt\")\n",
    "coding_sequence = \"\"\n",
    "\n",
    "for line in exon_locations:\n",
    "    positions = line.split(',')\n",
    "    start = int(positions[0])\n",
    "    stop = int(positions[1])\n",
    "    exon = genomic_dna[start:stop]\n",
    "    coding_sequence = coding_sequence + exon\n",
    "    print(\"coding sequence is : \" + coding_sequence)"
   ]
  },
  {
   "cell_type": "code",
   "execution_count": 64,
   "metadata": {
    "collapsed": true
   },
   "outputs": [],
   "source": [
    "genomic_dna = open(\"genomic_dna.txt\").read()\n",
    "exon_locations = open(\"exons.txt\")\n",
    "coding_sequence = \"\"\n",
    "\n",
    "for line in exon_locations:\n",
    "    positions = line.split(',')\n",
    "    start = int(positions[0])\n",
    "    stop = int(positions[1])\n",
    "    exon = genomic_dna[start:stop]\n",
    "    coding_sequence = coding_sequence + exon\n",
    "output = open(\"coding_sequence.txt\", \"w\")\n",
    "output.close()"
   ]
  },
  {
   "cell_type": "code",
   "execution_count": null,
   "metadata": {
    "collapsed": true
   },
   "outputs": [],
   "source": []
  }
 ],
 "metadata": {
  "kernelspec": {
   "display_name": "Python 3",
   "language": "python",
   "name": "python3"
  },
  "language_info": {
   "codemirror_mode": {
    "name": "ipython",
    "version": 3
   },
   "file_extension": ".py",
   "mimetype": "text/x-python",
   "name": "python",
   "nbconvert_exporter": "python",
   "pygments_lexer": "ipython3",
   "version": "3.6.1"
  }
 },
 "nbformat": 4,
 "nbformat_minor": 2
}
